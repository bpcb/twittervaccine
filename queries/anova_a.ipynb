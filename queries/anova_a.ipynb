{
 "metadata": {
  "name": ""
 },
 "nbformat": 3,
 "nbformat_minor": 0,
 "worksheets": [
  {
   "cells": [
    {
     "cell_type": "code",
     "collapsed": false,
     "input": [
      "from pandas.io import sql\n",
      "import pymysql\n",
      "import scipy.stats"
     ],
     "language": "python",
     "metadata": {},
     "outputs": [],
     "prompt_number": 78
    },
    {
     "cell_type": "markdown",
     "metadata": {},
     "source": [
      "Use SQL to compute the average sentiment score per user.  Drop state-only entries (for which the county is not known)."
     ]
    },
    {
     "cell_type": "code",
     "collapsed": false,
     "input": [
      "query = \"\"\"\n",
      "-- emit average user score; note that user id defines location\n",
      "select L.id AS user_id, L.county, L.state, avg(result) AS user_avg_score\n",
      "from tweets_tweet AS T, sentiment_score AS S, usa_user_locations AS L\n",
      "where T.id=S.id AND T.tweeter_id=L.id AND algorithm=1 AND L.county is not NULL\n",
      "group by L.id, L.county, L.state;\n",
      "\"\"\"\n",
      "\n",
      "conn = pymysql.connect(host='localhost', port=2001, user='root', db='vaccine')\n",
      "cursor = conn.cursor()\n",
      "cursor.execute(query)\n",
      "\n",
      "results = cursor.fetchall()\n",
      "cursor.close()\n",
      "conn.close()"
     ],
     "language": "python",
     "metadata": {},
     "outputs": [],
     "prompt_number": 101
    },
    {
     "cell_type": "raw",
     "metadata": {},
     "source": [
      "Create a data series for each county/state; this is a kind of poor man's pivot operation"
     ]
    },
    {
     "cell_type": "code",
     "collapsed": false,
     "input": [
      "import collections\n",
      "d = collections.defaultdict(list)\n",
      "for _id, county, state, avg in results:\n",
      "    d[(county, state)].append(avg)\n",
      "print len(d)"
     ],
     "language": "python",
     "metadata": {},
     "outputs": [
      {
       "output_type": "stream",
       "stream": "stdout",
       "text": [
        "2271\n"
       ]
      }
     ],
     "prompt_number": 107
    },
    {
     "cell_type": "markdown",
     "metadata": {},
     "source": [
      "Filter out states with less than 20 users"
     ]
    },
    {
     "cell_type": "code",
     "collapsed": false,
     "input": [
      "d2 = {key: val for key, val in d.iteritems() if len(val) >= 20}\n",
      "print len(d2)"
     ],
     "language": "python",
     "metadata": {},
     "outputs": [
      {
       "output_type": "stream",
       "stream": "stdout",
       "text": [
        "417\n"
       ]
      }
     ],
     "prompt_number": 106
    },
    {
     "cell_type": "markdown",
     "metadata": {},
     "source": [
      "Run ANOVA over the resulting 417 counties"
     ]
    },
    {
     "cell_type": "code",
     "collapsed": false,
     "input": [
      "f, p = scipy.stats.f_oneway(*d2.values())\n",
      "print f, p"
     ],
     "language": "python",
     "metadata": {},
     "outputs": [
      {
       "output_type": "stream",
       "stream": "stdout",
       "text": [
        "1.29019354755 6.06629053846e-05\n"
       ]
      }
     ],
     "prompt_number": 108
    },
    {
     "cell_type": "code",
     "collapsed": false,
     "input": [],
     "language": "python",
     "metadata": {},
     "outputs": []
    }
   ],
   "metadata": {}
  }
 ]
}